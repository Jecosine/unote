{
 "cells": [
  {
   "cell_type": "markdown",
   "metadata": {},
   "source": [
    "<style>\n",
    "  .serif {\n",
    "    font-family: \n",
    "  }\n",
    "  .tt {\n",
    "    text-align: center;\n",
    "    font-weight: bold;\n",
    "    font-size: 2rem;\n",
    "    font-family: 'Times New Roman';\n",
    "  }\n",
    "</style>\n",
    "<div class=\"tt\">COMP8650 Advanced Topics in Machine Learning </div>\n",
    "<div style=\"text-align: center\">Assignment 1</div>"
   ]
  },
  {
   "cell_type": "code",
   "execution_count": null,
   "metadata": {},
   "outputs": [],
   "source": [
    "import numpy as np"
   ]
  },
  {
   "cell_type": "code",
   "execution_count": null,
   "metadata": {},
   "outputs": [],
   "source": []
  }
 ],
 "metadata": {
  "kernelspec": {
   "display_name": "Python 3 (ipykernel)",
   "language": "python",
   "name": "python3"
  },
  "language_info": {
   "codemirror_mode": {
    "name": "ipython",
    "version": 3
   },
   "file_extension": ".py",
   "mimetype": "text/x-python",
   "name": "python",
   "nbconvert_exporter": "python",
   "pygments_lexer": "ipython3",
   "version": "3.9.12"
  }
 },
 "nbformat": 4,
 "nbformat_minor": 1
}
